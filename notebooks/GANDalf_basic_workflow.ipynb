{
  "nbformat": 4,
  "nbformat_minor": 0,
  "metadata": {
    "colab": {
      "provenance": [],
      "authorship_tag": "ABX9TyMo5+I/Hx09B2hvaaVSXdNE",
      "include_colab_link": true
    },
    "kernelspec": {
      "name": "python3",
      "display_name": "Python 3"
    },
    "language_info": {
      "name": "python"
    }
  },
  "cells": [
    {
      "cell_type": "markdown",
      "metadata": {
        "id": "view-in-github",
        "colab_type": "text"
      },
      "source": [
        "<a href=\"https://colab.research.google.com/github/hlydecker/GANDalf/blob/stable-diffusion/notebooks/GANDalf_basic_workflow.ipynb\" target=\"_parent\"><img src=\"https://colab.research.google.com/assets/colab-badge.svg\" alt=\"Open In Colab\"/></a>"
      ]
    },
    {
      "cell_type": "code",
      "execution_count": null,
      "metadata": {
        "id": "gCIAOi35gLil"
      },
      "outputs": [],
      "source": [
        "#@title Environment Setup\n",
        "\n",
        "!pip install diffusers==0.11.1\n",
        "!pip install transformers scipy ftfy accelerate"
      ]
    },
    {
      "cell_type": "code",
      "source": [
        "#@title Diffusion Pipeline Setup\n",
        "\n",
        "import torch\n",
        "from diffusers import StableDiffusionPipeline\n",
        "\n",
        "VRAM = \"Standard\" #@param [\"Standard\", \"High\"]\n",
        "\n",
        "if VRAM == \"Standard\":\n",
        "  pipe = StableDiffusionPipeline.from_pretrained(\"CompVis/stable-diffusion-v1-4\", torch_dtype=torch.float16) \n",
        "\n",
        "if VRAM == \"High\":\n",
        "  pipe = StableDiffusionPipeline.from_pretrained(\"CompVis/stable-diffusion-v1-4\")\n",
        "\n",
        "pipe = pipe.to(\"cuda\")"
      ],
      "metadata": {
        "id": "2UBuqSdOgeCo"
      },
      "execution_count": null,
      "outputs": []
    },
    {
      "cell_type": "code",
      "source": [
        "#@title Fuse one time\n",
        "\n",
        "first_person = \"Gollum\" #@param [\"Gandalf\", \"Gimli\", \"Gollum\", \"Legolas\", \"Frodo\"] {allow-input: true}\n",
        "\n",
        "second_person = \"Legolas\" #@param [\"Gandalf\", \"Gimli\", \"Gollum\", \"Legolas\", \"Frodo\"] {allow-input: true}\n",
        "\n",
        "prompt = f\"Cross between {first_person} and {second_person}\"\n",
        "image = pipe(prompt).images[0]  # image here is in [PIL format](https://pillow.readthedocs.io/en/stable/)\n",
        "\n",
        "# Now to display an image you can either save it such as:\n",
        "image.save(f\"loltr.png\")\n",
        "\n",
        "# or if you're in a google colab you can directly display it with \n",
        "image"
      ],
      "metadata": {
        "id": "oHnA6TNFhetS"
      },
      "execution_count": null,
      "outputs": []
    }
  ]
}